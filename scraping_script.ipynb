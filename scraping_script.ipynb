{
  "nbformat": 4,
  "nbformat_minor": 0,
  "metadata": {
    "colab": {
      "name": "scraping_script.ipynb",
      "provenance": [],
      "authorship_tag": "ABX9TyPLLOMXomvfjY1ncdzQEIYI",
      "include_colab_link": true
    },
    "kernelspec": {
      "name": "python3",
      "display_name": "Python 3"
    },
    "language_info": {
      "name": "python"
    }
  },
  "cells": [
    {
      "cell_type": "markdown",
      "metadata": {
        "id": "view-in-github",
        "colab_type": "text"
      },
      "source": [
        "<a href=\"https://colab.research.google.com/github/Pushpit07/Data_Collection_using_Pandas/blob/main/scraping_script.ipynb\" target=\"_parent\"><img src=\"https://colab.research.google.com/assets/colab-badge.svg\" alt=\"Open In Colab\"/></a>"
      ]
    },
    {
      "cell_type": "code",
      "metadata": {
        "id": "MrTB9Ojfpo3P"
      },
      "source": [
        "import requests"
      ],
      "execution_count": 1,
      "outputs": []
    },
    {
      "cell_type": "code",
      "metadata": {
        "id": "aEH5Oemfp0Vf"
      },
      "source": [
        "from bs4 import BeautifulSoup"
      ],
      "execution_count": 2,
      "outputs": []
    },
    {
      "cell_type": "code",
      "metadata": {
        "id": "09PRbzcnp1hU"
      },
      "source": [
        "url = \"https://www.goodreads.com/quotes/tag/{}?page={}\""
      ],
      "execution_count": 3,
      "outputs": []
    },
    {
      "cell_type": "code",
      "metadata": {
        "id": "Oid5Q8Mjp31y"
      },
      "source": [
        "def get_quotes(url):    \n",
        "    \n",
        "    res = requests.get(url)\n",
        "\n",
        "    soup = BeautifulSoup(res.text)\n",
        "\n",
        "    quote_divs = soup.find_all(\"div\", attrs={\"class\" : \"quote\"})\n",
        "\n",
        "    quotes = []\n",
        "\n",
        "    for quote_div in quote_divs:\n",
        "\n",
        "        quoteText_div = quote_div.find_next(\"div\", attrs={\"class\" : \"quoteText\"})\n",
        "\n",
        "        striped = quoteText_div.text.strip()\n",
        "\n",
        "        striped_li = striped.split(\"\\n\")\n",
        "\n",
        "        quote = striped_li[0][1:-1]\n",
        "        author = striped_li[-1].strip()\n",
        "\n",
        "        left_div = quote_div.find_next(\"div\", attrs={\"class\" : \"left\"})\n",
        "        tags = [tag.text for tag in left_div.find_all(\"a\")]\n",
        "\n",
        "        quote_item = {\n",
        "            \"text\" : quote,\n",
        "            \"author\" : author,\n",
        "            \"tags\" : tags\n",
        "        }\n",
        "\n",
        "        quotes.append(quote_item)\n",
        "    \n",
        "    return quotes"
      ],
      "execution_count": 4,
      "outputs": []
    },
    {
      "cell_type": "code",
      "metadata": {
        "colab": {
          "base_uri": "https://localhost:8080/"
        },
        "id": "UTuBivJlp6ZF",
        "outputId": "81e9b53f-594a-4fd2-e502-20324df491e8"
      },
      "source": [
        "total = []\n",
        "for i in range(1, 6):\n",
        "    total.extend(get_quotes(url.format(\"wisdom\", i)))\n",
        "    print(\"Processed\", i)"
      ],
      "execution_count": 9,
      "outputs": [
        {
          "output_type": "stream",
          "text": [
            "Processed 1\n",
            "Processed 2\n",
            "Processed 3\n",
            "Processed 4\n",
            "Processed 5\n"
          ],
          "name": "stdout"
        }
      ]
    },
    {
      "cell_type": "code",
      "metadata": {
        "colab": {
          "base_uri": "https://localhost:8080/"
        },
        "id": "n5uOWJ0dqA_t",
        "outputId": "6c39e285-3de4-4401-8a25-f6c414de9778"
      },
      "source": [
        "len(total)"
      ],
      "execution_count": 10,
      "outputs": [
        {
          "output_type": "execute_result",
          "data": {
            "text/plain": [
              "150"
            ]
          },
          "metadata": {
            "tags": []
          },
          "execution_count": 10
        }
      ]
    },
    {
      "cell_type": "code",
      "metadata": {
        "id": "SDaCToTvqD-M"
      },
      "source": [
        "import pandas as pd"
      ],
      "execution_count": 11,
      "outputs": []
    },
    {
      "cell_type": "code",
      "metadata": {
        "id": "uwYKQzYeq-TH"
      },
      "source": [
        "df = pd.DataFrame(total)"
      ],
      "execution_count": 12,
      "outputs": []
    },
    {
      "cell_type": "code",
      "metadata": {
        "id": "xzi-OJxHrAoy"
      },
      "source": [
        "df.to_csv(\"scrap.csv\", index=None)"
      ],
      "execution_count": null,
      "outputs": []
    }
  ]
}